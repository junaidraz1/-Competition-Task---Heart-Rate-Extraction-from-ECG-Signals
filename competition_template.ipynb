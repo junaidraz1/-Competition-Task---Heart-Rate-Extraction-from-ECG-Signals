{
 "cells": [
  {
   "cell_type": "markdown",
   "id": "513b54d8-55c0-466e-8e67-874634ca5343",
   "metadata": {},
   "source": [
    "**Team Name**: <br>\n",
    "AlgoWizards <br><br>\n",
    "**Team Members**: <br>\n",
    "Momina Iffat Iftikhar 2412443 <br>\n",
    "Muhammad Junaid Raza 2409917"
   ]
  },
  {
   "cell_type": "code",
   "execution_count": 75,
   "id": "7a316702",
   "metadata": {},
   "outputs": [],
   "source": [
    "import pickle\n",
    "import numpy as npa\n",
    "import matplotlib.pyplot as plt\n",
    "import scipy.signal\n",
    "from scipy.ndimage import median_filter\n",
    "import os"
   ]
  },
  {
   "cell_type": "markdown",
   "id": "1fbfca14",
   "metadata": {},
   "source": [
    "# --- 1. Load ECG Data with HR Labels ---"
   ]
  },
  {
   "cell_type": "code",
   "execution_count": 78,
   "id": "28ce9149",
   "metadata": {},
   "outputs": [
    {
     "name": "stdout",
     "output_type": "stream",
     "text": [
      "Loaded 200 ECG signals.\n"
     ]
    }
   ],
   "source": [
    "file_path = os.path.join(\"data\", \"ecg_data_with_hr_labels.pkl\")  \n",
    "\n",
    "# Load ECG data\n",
    "with open(file_path, \"rb\") as f:\n",
    "    data = pickle.load(f)\n",
    "    \n",
    "# Extract signals and ground truth HR values\n",
    "signals = data[\"signals\"]\n",
    "ground_truth_hr = data[\"hr_values\"]\n",
    "\n",
    "print(f\"Loaded {len(signals)} ECG signals.\")"
   ]
  },
  {
   "cell_type": "markdown",
   "id": "1809390a",
   "metadata": {},
   "source": [
    "# --- 2. Implement Your HR Extraction Algorithm Here ---\n",
    "\n",
    "**Instruction:**\n",
    "\n",
    "***Your algorithm should return a list of HR values where each HR value corresponds to an ECG signal. Ensure the length of the list is 200 (equal to number of signals). The list can include np.nan if your algorithm is not able to calculate HR for a signal.***"
   ]
  },
  {
   "cell_type": "code",
   "execution_count": 118,
   "id": "98b2261e-11c1-499c-9a7d-3820aa322f15",
   "metadata": {},
   "outputs": [],
   "source": [
    "# References:\n",
    "### https://www.ijariit.com/manuscripts/v4i4/V4I4-1527.pdf\n",
    "### https://docs.scipy.org/doc/scipy/reference/generated/scipy.signal.savgol_filter.html\n",
    "### https://stackoverflow.com/questions/67001293/savitzky-golay-filter-in-python-wrong-window-size"
   ]
  },
  {
   "cell_type": "code",
   "execution_count": 109,
   "id": "e434d361",
   "metadata": {},
   "outputs": [],
   "source": [
    "def extract_hr(ecg_signals, fs=200):\n",
    "    detected_hr_values = [npa.nan] * len(ecg_signals)\n",
    "\n",
    "    for i, signal in enumerate(ecg_signals):\n",
    "        try:\n",
    "            # === Step 1: Noise Reduction ===\n",
    "            signal = median_filter(signal, size=3)  # Reduces baseline wander and noise with median filtering\n",
    "\n",
    "            # Applying Notch filter (50 Hz) with a Q-factor of 35\n",
    "            b_notch, a_notch = scipy.signal.iirnotch(50, 35, fs)\n",
    "            signal = scipy.signal.filtfilt(b_notch, a_notch, signal)  # Removes powerline interference at 50 Hz\n",
    "\n",
    "            # Bandpass filter (0.5 - 40 Hz)\n",
    "            b, a = scipy.signal.butter(4, [0.5/(fs/2), 40/(fs/2)], btype='band')\n",
    "            filtered_signal = scipy.signal.filtfilt(b, a, signal)  # Filters the signal to include only relevant frequencies\n",
    "\n",
    "            # Smoothing using Savitzky-Golay filter\n",
    "            smooth_signal = scipy.signal.savgol_filter(filtered_signal, window_length=15, polyorder=3)  # Smooths the signal for better peak detection\n",
    "\n",
    "            # === Step 2: QRS Peak Detection ===\n",
    "            diff_signal = npa.diff(smooth_signal, n=1)\n",
    "            squared_signal = diff_signal ** 2  # Enhances the signal by squaring the derivative of the smoothed signal\n",
    "\n",
    "            # Moving window integration with an optimized window size of 0.11s\n",
    "            window_size = int(0.11 * fs)\n",
    "            integrated_signal = npa.convolve(squared_signal, npa.ones(window_size)/window_size, mode='same')  # Integrates the squared signal for peak detection\n",
    "\n",
    "            # Fine-tuned adaptive threshold\n",
    "            threshold = npa.median(integrated_signal) + 0.65 * npa.std(integrated_signal)  # Dynamic threshold based on median and standard deviation\n",
    "            peaks, _ = scipy.signal.find_peaks(integrated_signal, height=threshold, distance=int(fs // 2.5))  # Detect QRS peaks\n",
    "\n",
    "            if len(peaks) < 2:\n",
    "                detected_hr_values[i] = npa.nan\n",
    "                continue\n",
    "\n",
    "            # === Step 3: Compute RR Intervals ===\n",
    "            rr_intervals = npa.diff(peaks) / fs  # Convert peak-to-peak distances into RR intervals in seconds\n",
    "\n",
    "            # IQR Filtering: Tighter upper bound: `min(1.2, q3 + 1.4 * iqr)`\n",
    "            q1, q3 = npa.percentile(rr_intervals, [25, 75])\n",
    "            iqr = q3 - q1\n",
    "            lower_bound = max(0.4, q1 - 1.5 * iqr)  # Exclude intervals that are too short (lower bound)\n",
    "            upper_bound = min(1.2, q3 + 1.4 * iqr)  # Exclude intervals that are too long (upper bound)\n",
    "            \n",
    "            valid_rr = rr_intervals[(rr_intervals >= lower_bound) & (rr_intervals <= upper_bound)]  # Filter out outliers based on IQR\n",
    "\n",
    "            if len(valid_rr) == 0:\n",
    "                detected_hr_values[i] = npa.nan\n",
    "                continue\n",
    "\n",
    "            # Using trimmed Mean here instead of Median**\n",
    "            valid_rr_sorted = npa.sort(valid_rr)\n",
    "            trimmed_rr = valid_rr_sorted[int(0.1 * len(valid_rr)) : int(0.9 * len(valid_rr))]  # Remove extreme values by trimming 10% from both ends\n",
    "\n",
    "            if len(trimmed_rr) == 0:\n",
    "                detected_hr_values[i] = npa.nan\n",
    "                continue\n",
    "\n",
    "            avg_rr = npa.mean(trimmed_rr)  # Compute the mean RR interval after trimming for stability\n",
    "            detected_hr_values[i] = int(60 / avg_rr)  # Calculate heart rate in beats per minute (BPM)\n",
    "\n",
    "        except Exception as e:\n",
    "            print(f\"Error processing signal {i}: {e}\")\n",
    "            detected_hr_values[i] = npa.nan\n",
    "\n",
    "    return detected_hr_values\n",
    "\n",
    "# Run HR extraction\n",
    "detected_hr_values = extract_hr(signals)"
   ]
  },
  {
   "cell_type": "markdown",
   "id": "f654b1ac",
   "metadata": {},
   "source": [
    "# --- 3. Evaluation of HR Extraction Algorithm ---\n",
    "\n",
    "**Description:**\n",
    "\n",
    "***Evaluates the performance of your HR extraction method using Mean Absolute Error (MAE).***"
   ]
  },
  {
   "cell_type": "code",
   "execution_count": 112,
   "id": "b65d5600",
   "metadata": {},
   "outputs": [],
   "source": [
    "def evaluate_hr_extraction(detected_hr_values, ground_truth_hr):\n",
    "    valid_indices = np.where(~np.isnan(detected_hr_values))[0].tolist()\n",
    "    \n",
    "    if len(valid_indices) == 0:\n",
    "        return {\"Mean Absolute Error\": np.nan}\n",
    "    \n",
    "    absolute_errors = np.abs(np.array(ground_truth_hr)[valid_indices] - np.array(detected_hr_values)[valid_indices])\n",
    "    mae = np.sum(absolute_errors) / len(absolute_errors)\n",
    "    return {\"Mean Absolute Error\": mae}"
   ]
  },
  {
   "cell_type": "code",
   "execution_count": 114,
   "id": "7836574b",
   "metadata": {},
   "outputs": [
    {
     "name": "stdout",
     "output_type": "stream",
     "text": [
      "{'Mean Absolute Error': 5.248226672141202}\n"
     ]
    }
   ],
   "source": [
    "# Evaluate performance of your HR extraction method\n",
    "mae = evaluate_hr_extraction(detected_hr_values, ground_truth_hr)\n",
    "\n",
    "print(mae)"
   ]
  },
  {
   "cell_type": "markdown",
   "id": "77d3bf3d",
   "metadata": {},
   "source": [
    "***Run the above cells and check your evaluation score.***\n",
    "\n",
    "***The final assessment is based on the MAE, the lowest MAE is the first rank in competition!***"
   ]
  }
 ],
 "metadata": {
  "kernelspec": {
   "display_name": "Python 3 (ipykernel)",
   "language": "python",
   "name": "python3"
  },
  "language_info": {
   "codemirror_mode": {
    "name": "ipython",
    "version": 3
   },
   "file_extension": ".py",
   "mimetype": "text/x-python",
   "name": "python",
   "nbconvert_exporter": "python",
   "pygments_lexer": "ipython3",
   "version": "3.12.3"
  }
 },
 "nbformat": 4,
 "nbformat_minor": 5
}
